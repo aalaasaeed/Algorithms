{
 "cells": [
  {
   "cell_type": "markdown",
   "id": "52e7224f",
   "metadata": {
    "pycharm": {
     "name": "#%% md\n"
    }
   },
   "source": [
    "### Money Change "
   ]
  },
  {
   "cell_type": "code",
   "execution_count": 1,
   "id": "0588b11d",
   "metadata": {
    "pycharm": {
     "name": "#%%\n"
    }
   },
   "outputs": [
    {
     "name": "stdout",
     "output_type": "stream",
     "text": [
      "[50, 20, 20, 5, 1]\n"
     ]
    }
   ],
   "source": [
    "list_of_coins = [200,100,50,20,5,1]\n",
    "list_of_coins.sort(reverse = True)\n",
    "list_of_coins_2 = [1,25,25]\n",
    "list_of_coins_2.sort(reverse = True)\n",
    "\n",
    "\n",
    "if list_of_coins[-1] != 1:\n",
    "    list_of_coins.append(1)\n",
    "\n",
    "def make_change(list_of_coins, amount):\n",
    "    change = []\n",
    "    for coin in list_of_coins:\n",
    "        while amount:\n",
    "            if coin <= amount:\n",
    "                change.append(coin)\n",
    "                amount -= coin\n",
    "            else:\n",
    "                break\n",
    "    return change\n",
    "\n",
    "amount= 96\n",
    "print(make_change(list_of_coins, amount))"
   ]
  },
  {
   "cell_type": "markdown",
   "id": "3f35469f",
   "metadata": {
    "pycharm": {
     "name": "#%% md\n"
    }
   },
   "source": [
    "Time complexity: O(n)"
   ]
  },
  {
   "cell_type": "code",
   "execution_count": 2,
   "id": "53bf882d",
   "metadata": {
    "pycharm": {
     "name": "#%%\n"
    }
   },
   "outputs": [
    {
     "name": "stdout",
     "output_type": "stream",
     "text": [
      "[25, 1, 1, 1, 1, 1]\n"
     ]
    }
   ],
   "source": [
    "amount_2= 30\n",
    "print(make_change(list_of_coins_2, amount_2))"
   ]
  },
  {
   "cell_type": "markdown",
   "id": "dc85eff1",
   "metadata": {
    "pycharm": {
     "name": "#%% md\n"
    }
   },
   "source": [
    "But for some coin sets, there are sums for which the greedy algorithm fails. \n",
    "For example, for the set {1, 15, 25} and the sum 30, \n",
    "the greedy algorithm first chooses 25, leaving a remainder of 5, and then five 1s for a total of six coins. \n",
    "But the solution with the minimal number of coins is to choose 15 twice."
   ]
  },
  {
   "cell_type": "markdown",
   "id": "e7952182",
   "metadata": {
    "pycharm": {
     "name": "#%% md\n"
    }
   },
   "source": [
    "### Fractional Optimal greedy algorthim"
   ]
  },
  {
   "cell_type": "code",
   "execution_count": 3,
   "id": "f7d8952c",
   "metadata": {
    "pycharm": {
     "name": "#%%\n"
    }
   },
   "outputs": [],
   "source": [
    "def fractional_knapsack(values, weights, capacity):\n",
    "    index = list(range(len(values)))\n",
    "    ratio = [v/m for v, m in zip(values, weights)]\n",
    "    index.sort(key=lambda i: ratio[i], reverse=True)\n",
    "    max_value = 0\n",
    "    container = [0]*len(values)\n",
    "    for i in index:\n",
    "        if (weights[i] < capacity):\n",
    "            container[i] = 1\n",
    "            max_value += values[i]\n",
    "            capacity -= weights[i]\n",
    "        else:\n",
    "            container[i] = capacity/weights[i]\n",
    "            max_value += values[i] * (capacity/weights[i])\n",
    "            break\n",
    "    return max_value, container"
   ]
  },
  {
   "cell_type": "code",
   "execution_count": 4,
   "id": "32743814",
   "metadata": {
    "pycharm": {
     "name": "#%%\n"
    }
   },
   "outputs": [
    {
     "name": "stdout",
     "output_type": "stream",
     "text": [
      "The Maximum Value :55.333333333333336\n",
      "The Container =: [1, 0.6666666666666666, 1, 0, 1, 1, 1] \n"
     ]
    }
   ],
   "source": [
    "max_value , container = fractional_knapsack([10,5,15,7,6,18,3],[2,3,5,7,1,4,1],15)\n",
    "print(f\"The Maximum Value :{max_value}\\nThe Container =: {container} \")"
   ]
  },
  {
   "cell_type": "markdown",
   "id": "6542fa74",
   "metadata": {
    "pycharm": {
     "name": "#%% md\n"
    }
   },
   "source": [
    "Time Complexity : O(nlog(n))"
   ]
  },
  {
   "cell_type": "markdown",
   "id": "f9a25719",
   "metadata": {
    "pycharm": {
     "name": "#%% md\n"
    }
   },
   "source": [
    "Greedy Algorithm gives optimal solution for fractional knapsack problem"
   ]
  },
  {
   "cell_type": "markdown",
   "id": "6af45231",
   "metadata": {
    "pycharm": {
     "name": "#%% md\n"
    }
   },
   "source": [
    "### 0-1 Knapsack using greedy "
   ]
  },
  {
   "cell_type": "code",
   "execution_count": 5,
   "id": "f8b27e38",
   "metadata": {
    "pycharm": {
     "name": "#%%\n"
    }
   },
   "outputs": [],
   "source": [
    "def knapsack_greedy(values, weights, capacity):\n",
    "    index = list(range(len(values)))\n",
    "    ratio = [v/m for v, m in zip(values, weights)]\n",
    "    index.sort(key=lambda i: ratio[i], reverse=True)\n",
    "    max_value = 0\n",
    "    container = [0]*len(values)\n",
    "    for i in index:\n",
    "        if (weights[i] < capacity):\n",
    "            container[i] = 1\n",
    "            max_value += values[i]\n",
    "            capacity -= weights[i]\n",
    "            \n",
    "    return max_value, container\n",
    "    "
   ]
  },
  {
   "cell_type": "code",
   "execution_count": 6,
   "id": "598e912d",
   "metadata": {
    "pycharm": {
     "name": "#%%\n"
    }
   },
   "outputs": [
    {
     "name": "stdout",
     "output_type": "stream",
     "text": [
      "The index of weights : 25\n",
      "The Maximum Value: [1, 0, 0]\n"
     ]
    }
   ],
   "source": [
    "container, best_value = knapsack_greedy([25,15,20],[12,10,10],20)\n",
    "print(f\"The index of weights : {container}\\nThe Maximum Value: {best_value}\")"
   ]
  },
  {
   "cell_type": "markdown",
   "id": "96c703b8",
   "metadata": {
    "pycharm": {
     "name": "#%% md\n"
    }
   },
   "source": [
    "greedy Algorthim does not give an optimal solution for 0-1 knapsack, but brute force gives optimal solution"
   ]
  },
  {
   "cell_type": "markdown",
   "id": "735a168a",
   "metadata": {
    "pycharm": {
     "name": "#%% md\n"
    }
   },
   "source": [
    "### 0-1 Knapsack using brute_force"
   ]
  },
  {
   "cell_type": "code",
   "execution_count": 7,
   "id": "b6a637a1",
   "metadata": {
    "pycharm": {
     "name": "#%%\n"
    }
   },
   "outputs": [
    {
     "name": "stdout",
     "output_type": "stream",
     "text": [
      "The index of weights : (1, 2)\n",
      "The Maximum weight: 20\n",
      "The Maximum Value: 35\n"
     ]
    }
   ],
   "source": [
    "import itertools\n",
    "\n",
    "\n",
    "def knapsack_bruteForce(values, weights, capacity):\n",
    "    index = list(range(len(values)))\n",
    "    best_weight = 0\n",
    "    best_value = 0\n",
    "    container = [0] * len(values)\n",
    "    all_combinations = []\n",
    "    for r in range(len(index) + 1):\n",
    "        combinations_object = itertools.combinations(index, r+1)\n",
    "        combinations_list = list(combinations_object)\n",
    "        all_combinations += combinations_list\n",
    "    for m,n in enumerate(all_combinations):\n",
    "        set_weight = 0\n",
    "        set_value = 0\n",
    "        for k in n:\n",
    "            set_weight += weights[k]\n",
    "            set_value += values[k]\n",
    "            if(set_value > best_value and set_weight <= capacity):\n",
    "                best_weight = set_weight\n",
    "                best_value = set_value\n",
    "                container = n\n",
    "    return container,best_weight,best_value\n",
    "\n",
    "\n",
    "\n",
    "container, best_weight, best_value = knapsack_bruteForce([25,15,20],[12,10,10],20)\n",
    "print(f\"The index of weights : {container}\\nThe Maximum weight: {best_weight}\\nThe Maximum Value: {best_value}\")"
   ]
  },
  {
   "cell_type": "markdown",
   "id": "6d040eb9",
   "metadata": {
    "pycharm": {
     "name": "#%% md\n"
    }
   },
   "source": [
    "Time Complexity : $ O(2^n)$"
   ]
  },
  {
   "cell_type": "markdown",
   "id": "3fcfea57",
   "metadata": {
    "pycharm": {
     "name": "#%% md\n"
    }
   },
   "source": [
    "brute force gives optimal solution for 0-1 knapsack"
   ]
  }
 ],
 "metadata": {
  "kernelspec": {
   "display_name": "Python 3 (ipykernel)",
   "language": "python",
   "name": "python3"
  },
  "language_info": {
   "codemirror_mode": {
    "name": "ipython",
    "version": 3
   },
   "file_extension": ".py",
   "mimetype": "text/x-python",
   "name": "python",
   "nbconvert_exporter": "python",
   "pygments_lexer": "ipython3",
   "version": "3.10.1"
  }
 },
 "nbformat": 4,
 "nbformat_minor": 5
}